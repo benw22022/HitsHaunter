{
 "cells": [
  {
   "cell_type": "code",
   "execution_count": 1,
   "metadata": {},
   "outputs": [],
   "source": [
    "import numpy as np\n",
    "import matplotlib.pyplot as plt\n",
    "import awkward as ak\n",
    "import uproot\n",
    "import os\n",
    "import glob\n",
    "from itertools import chain\n",
    "from copy import deepcopy\n",
    "import plotly.graph_objs as go\n",
    "import plotly.express as px"
   ]
  },
  {
   "cell_type": "code",
   "execution_count": 2,
   "metadata": {},
   "outputs": [],
   "source": [
    "def rotate_vec2D(vec, theta, origin=(0,0)):\n",
    " \n",
    "    translated_vec = vec.translate(-origin)\n",
    "    \n",
    "    # Define the rotation matrix\n",
    "    rotation_matrix = np.array([\n",
    "        [np.cos(theta), -np.sin(theta)],\n",
    "        [np.sin(theta), np.cos(theta)]\n",
    "    ])\n",
    "\n",
    "    # Apply the rotation matrix to the coordinates\n",
    "    rotated_vec = np.dot(translated_vec, rotation_matrix)\n",
    "    return rotated_vec.translate(origin, modify=True)\n",
    "\n",
    "def rotate_point(px, py, cx, cy, angle):\n",
    "    s = np.sin(angle)\n",
    "    c = np.cos(angle)\n",
    "    px -= cx\n",
    "    py -= cy\n",
    "    xnew = px * c - py * s\n",
    "    ynew = px * s + py * c\n",
    "    px = xnew + cx\n",
    "    py = ynew + cy\n",
    "    return px, py\n",
    "\n",
    "\n",
    "def point_in_rectangle(px, py, rect):\n",
    "    rx_min, rx_max = min(rect[:, 0]), max(rect[:, 0])\n",
    "    ry_min, ry_max = min(rect[:, 1]), max(rect[:, 1])\n",
    "    return rx_min < px < rx_max and ry_min < py < ry_max\n",
    "\n",
    "\n",
    "\n",
    "def check_overlap(x_length, y_length, angle1, angle2, point):\n",
    "    # Define the vertices of the base rectangle (centered at origin, for example)\n",
    "    \n",
    "    length = min((x_length, y_length))\n",
    "    width = max((x_length, y_length))\n",
    "    \n",
    "    rect1 = np.array([[-length, -width], [length, -width], [length, width], [-length, width]])\n",
    "\n",
    "    # Define the center\n",
    "    center = (0, 0)\n",
    "    \n",
    "    # Apply rotation to the vertices of the second rectangle\n",
    "    rect2 = np.array([rotate_point(x, y, *center, angle2) for x, y in rect1])\n",
    "    rect3 = np.array([rotate_point(x, y, *center, angle1) for x, y in rect1])\n",
    "\n",
    "    rot_point = rotate_point(point[0], point[1], *center, angle2)\n",
    "    \n",
    "    # Check if the point is within both rectangles\n",
    "    inside_rect2 = point_in_rectangle(point[0], point[1], rect3)\n",
    "    inside_rect3 = point_in_rectangle(rot_point[0], rot_point[1], rect1)\n",
    "\n",
    "    # Determine if the point is in the overlapping area\n",
    "    in_overlap = inside_rect2 and inside_rect3\n",
    "    \n",
    "    return in_overlap"
   ]
  },
  {
   "cell_type": "code",
   "execution_count": 3,
   "metadata": {},
   "outputs": [],
   "source": [
    "class vector2D:\n",
    "    \n",
    "    def __init__(self, direction, anchor):\n",
    "        self.direction = direction\n",
    "        self.anchor = anchor\n",
    "        \n",
    "    def rotate(self, theta, origin=None, modify=False):\n",
    "        \n",
    "        if origin is None:\n",
    "            origin = np.array([0, 0])   \n",
    "        \n",
    "        translated_vec = self.translate(-origin)\n",
    "        \n",
    "        rotation_matrix = np.array([\n",
    "            [np.cos(theta), -np.sin(theta)],\n",
    "            [np.sin(theta), np.cos(theta)]\n",
    "            ])\n",
    "        \n",
    "        direction = np.dot(translated_vec.direction, rotation_matrix)\n",
    "        rotated_anchor = np.dot(translated_vec.anchor, rotation_matrix)\n",
    "    \n",
    "        anchor = rotated_anchor + origin\n",
    "        \n",
    "        if not modify:\n",
    "            return vector2D(direction, anchor)\n",
    "        \n",
    "        self.direction = direction\n",
    "        self.anchor = anchor\n",
    "        return self\n",
    "    \n",
    "    def __str__(self):\n",
    "        return f\"vector2D: direction={self.direction} anchor={self.anchor}\"\n",
    "    \n",
    "    def compute_intercept(self, other):\n",
    "        direction_matrix = np.array([[-self.direction[0], other.direction[0]], [self.direction[1], other.direction[1]]])\n",
    "        b = other.anchor - self.anchor\n",
    "        \n",
    "        if np.linalg.det(direction_matrix) == 0:\n",
    "            print(\"Error: Lines are parallel\")\n",
    "            raise ValueError\n",
    "        \n",
    "        t, u = np.linalg.solve(direction_matrix, b)\n",
    "        \n",
    "        return self.anchor + t * self.direction\n",
    "    \n",
    "    def get_end(self, length):\n",
    "        \n",
    "        return self.anchor + (self.direction * length)\n",
    "    \n",
    "    def translate(self, amount, modify=False):\n",
    "        \n",
    "        anchor = self.anchor + amount\n",
    "        \n",
    "        if not modify:\n",
    "            return vector2D(self.direction, anchor)\n",
    "\n",
    "        self.anchor = anchor\n",
    "        return self\n",
    "    \n",
    "\n",
    "    def distance_to_point(self, point, length):\n",
    "\n",
    "        # Extract coordinates\n",
    "        x0, y0 = point\n",
    "        x1, y1 = self.anchor\n",
    "        x2, y2 = self.get_end(length)\n",
    "        \n",
    "        # Calculate the components of the distance formula\n",
    "        numerator = abs((y2 - y1) * x0 - (x2 - x1) * y0 + x2 * y1 - y2 * x1)\n",
    "        denominator = np.sqrt((y2 - y1)**2 + (x2 - x1)**2)\n",
    "        \n",
    "        # Calculate the distance\n",
    "        distance = numerator / denominator\n",
    "        return distance\n",
    "\n",
    "\n"
   ]
  },
  {
   "cell_type": "code",
   "execution_count": 4,
   "metadata": {},
   "outputs": [
    {
     "data": {
      "text/plain": [
       "(-96.0, 96.0)"
      ]
     },
     "execution_count": 4,
     "metadata": {},
     "output_type": "execute_result"
    },
    {
     "data": {
      "image/png": "[encoded data removed]",
      "text/plain": [
       "<Figure size 640x480 with 1 Axes>"
      ]
     },
     "metadata": {},
     "output_type": "display_data"
    }
   ],
   "source": [
    "class SCTModule():\n",
    "    \n",
    "    def __init__(self, xpos=0, ypos=0, width=63.56, length=128.05, nstrips=768, stereo_angle=0.04, rotation=0, flip=False):\n",
    "        \n",
    "        self.xpos = 0\n",
    "        self.ypos = 0\n",
    "        self.width = width\n",
    "        self.length = length\n",
    "        self.nstrips = nstrips\n",
    "        self.stereo_angle = stereo_angle\n",
    "        if flip:\n",
    "            self.stereo_angle *= -1\n",
    "        self.rotation = 0\n",
    "        \n",
    "        # Init strip vectors \n",
    "        #* Baseline module: top strips are oriented vertically in the y-direction\n",
    "        #*                  bottom strips are rotated by stereo angle\n",
    "        vertical_unit_vec = vector2D(np.array([0, 1]), np.array(([xpos, ypos])))\n",
    "        # horiz_unit_vec = vector2D(np.array([1, 1]), np.array(([xpos - width/2, ypos - length/2])))\n",
    "        \n",
    "        top_strips_unit_vect = vertical_unit_vec.rotate(rotation)\n",
    "        bottom_strips_unit_vect = vertical_unit_vec.rotate(rotation + stereo_angle)\n",
    "        \n",
    "        self.top_strips = []\n",
    "        self.bottom_strips = []\n",
    "        \n",
    "        for dx in np.linspace(-width/2, width/2, nstrips+1):\n",
    "            self.top_strips.append(vertical_unit_vec.translate([dx, -length/2]).rotate(rotation, origin=np.array([xpos, ypos])))\n",
    "            self.bottom_strips.append(vertical_unit_vec.translate([dx, -length/2]).rotate(rotation+stereo_angle, origin=np.array([xpos, ypos])))\n",
    "        \n",
    "    \n",
    "    def get_hit_strips(self, hits_x, hits_y):\n",
    "        \n",
    "        top_hit_strip_pairs = []\n",
    "        bottom_hit_strip_pairs = []\n",
    "        \n",
    "        for px, py in zip(hits_x, hits_y):\n",
    "            distances_top = []\n",
    "            distances_bottom = []\n",
    "        \n",
    "            if not check_overlap(self.width/2, self.length/2, self.rotation, self.rotation+self.stereo_angle, (px, py)):\n",
    "                continue\n",
    "            \n",
    "            for strip in self.top_strips:\n",
    "                strip_to_hit_distance = strip.distance_to_point([px, py], self.length)\n",
    "                distances_top.append(strip_to_hit_distance)\n",
    "        \n",
    "            sorted_indices = np.argsort(distances_top)\n",
    "            closest_lines = sorted_indices[:2]\n",
    "            closest_lines = sorted(closest_lines)\n",
    "            \n",
    "            top_hit_strip_pairs += [[self.top_strips[l] for l in closest_lines]]\n",
    "            \n",
    "            for strip in self.bottom_strips:\n",
    "                strip_to_hit_distance = strip.distance_to_point([px, py], self.length)\n",
    "                distances_bottom.append(strip_to_hit_distance)\n",
    "        \n",
    "            sorted_indices = np.argsort(distances_bottom)\n",
    "            closest_lines = sorted_indices[:2]\n",
    "            closest_lines = sorted(closest_lines)\n",
    "            \n",
    "            bottom_hit_strip_pairs += [[self.bottom_strips[l] for l in closest_lines]]\n",
    "            \n",
    "        return top_hit_strip_pairs, bottom_hit_strip_pairs\n",
    "    \n",
    "    \n",
    "    def get_space_points(self, hits_x, hits_y):\n",
    "        \n",
    "        top_hit_strip_pairs, bottom_hit_strip_pairs = self.get_hit_strips(hits_x, hits_y)\n",
    "        \n",
    "        x_intersection_points = []\n",
    "        y_intersection_points = []\n",
    "        \n",
    "        space_points = set()\n",
    "        space_points_x = []\n",
    "        space_points_y = []\n",
    "        \n",
    "\n",
    "\n",
    "        for top_strip1, top_strip2 in top_hit_strip_pairs:\n",
    "            for bottom_strip1, bottom_strip2 in bottom_hit_strip_pairs:\n",
    "                \n",
    "                is_valid = True                \n",
    "                \n",
    "                intercept_11 = top_strip1.compute_intercept(bottom_strip1)\n",
    "                intercept_12 = top_strip1.compute_intercept(bottom_strip2)\n",
    "                intercept_21 = top_strip2.compute_intercept(bottom_strip1)\n",
    "                intercept_22 = top_strip2.compute_intercept(bottom_strip2)\n",
    "    \n",
    "                if check_overlap(self.width/2, self.length/2, self.rotation, self.rotation+self.stereo_angle, intercept_11):\n",
    "                    x_intersection_points.append(intercept_11[0])\n",
    "                    y_intersection_points.append(intercept_11[1])\n",
    "                else:\n",
    "                    is_valid = False\n",
    "                \n",
    "                if check_overlap(self.width/2, self.length/2, self.rotation, self.rotation+self.stereo_angle, intercept_12):\n",
    "                    x_intersection_points.append(intercept_12[0])\n",
    "                    y_intersection_points.append(intercept_12[1])\n",
    "                else:\n",
    "                    is_valid = False\n",
    "                \n",
    "                if check_overlap(self.width/2, self.length/2, self.rotation, self.rotation+self.stereo_angle, intercept_21):\n",
    "                    x_intersection_points.append(intercept_21[0])\n",
    "                    y_intersection_points.append(intercept_21[1])\n",
    "                else:\n",
    "                    is_valid = False\n",
    "                \n",
    "                if check_overlap(self.width/2, self.length/2, self.rotation, self.rotation+self.stereo_angle, intercept_22):\n",
    "                    x_intersection_points.append(intercept_22[0])\n",
    "                    y_intersection_points.append(intercept_22[1])\n",
    "                else:\n",
    "                    is_valid = False\n",
    "                \n",
    "                if is_valid:\n",
    "                    sp_x = (intercept_11[0] + intercept_12[0] + intercept_21[0] + intercept_22[0]) / 4\n",
    "                    sp_y = (intercept_11[1] + intercept_12[1] + intercept_21[1] + intercept_22[1]) / 4\n",
    "                    \n",
    "                    # if sp_x not in space_points_x and sp_y not in space_points_y: \n",
    "                    space_points.add((sp_x, sp_y))\n",
    "\n",
    "        space_points_x = [xy[0] for xy in space_points]\n",
    "        space_points_y = [xy[1] for xy in space_points]\n",
    "        \n",
    "        return (space_points_x, space_points_y), (top_hit_strip_pairs, bottom_hit_strip_pairs), (x_intersection_points, y_intersection_points)\n",
    "\n",
    "    \n",
    "    def sort_hits_from_ghosts(self, hits_x, hits_y, space_points_x, space_points_y):\n",
    "        \n",
    "        ghost_hits_x = deepcopy(space_points_x)\n",
    "        ghost_hits_y = deepcopy(space_points_y)\n",
    "        \n",
    "        reco_hits_x = []\n",
    "        reco_hits_y = []\n",
    "        \n",
    "        for i, (px, py) in enumerate(zip(hits_x, hits_y)):\n",
    "            smallest_distance = 10e10\n",
    "            \n",
    "            if not check_overlap(self.width/2, self.length/2, self.rotation, self.rotation+self.stereo_angle, (px, py)):\n",
    "                continue\n",
    "            \n",
    "            best_idx = 0\n",
    "            for j, (sx, sy) in enumerate(zip(ghost_hits_x, ghost_hits_y)):\n",
    "                \n",
    "                distance = np.sqrt((px - sx)**2 + (py - sy)**2)\n",
    "                \n",
    "                if distance < smallest_distance:\n",
    "                    smallest_distance = distance\n",
    "                    best_idx = j\n",
    "            \n",
    "            if len(ghost_hits_x) != 0 :\n",
    "                reco_hits_x.append(ghost_hits_x.pop(best_idx))\n",
    "                reco_hits_y.append(ghost_hits_y.pop(best_idx))\n",
    "        \n",
    "        return (np.array(reco_hits_x), np.array(reco_hits_y)), (np.array(ghost_hits_x), np.array(ghost_hits_y))\n",
    "    \n",
    "\n",
    "    def get_reco_and_ghost_hits(self, hits_x, hits_y):\n",
    "        \n",
    "        (space_points_x, space_points_y), (top_hit_strip_pairs, bottom_hit_strip_pairs), _ = self.get_space_points(hits_x, hits_y)\n",
    "        \n",
    "        (reco_hits_x, reco_hits_y), (ghost_hits_x, ghost_hits_y) = self.sort_hits_from_ghosts(hits_x, hits_y, space_points_x, space_points_y)\n",
    "        \n",
    "        return (reco_hits_x, reco_hits_y), (ghost_hits_x, ghost_hits_y), (top_hit_strip_pairs, bottom_hit_strip_pairs)\n",
    "    \n",
    "    \n",
    "    def draw_hits(self, ax, hits_x, hits_y):\n",
    "        \n",
    "        (reco_hits_x, reco_hits_y), (ghost_hits_x, ghost_hits_y), (top_hit_strip_pairs, bottom_hit_strip_pairs) = self.get_reco_and_ghost_hits(hits_x, hits_y)\n",
    "        \n",
    "        ax.scatter(hits_x, hits_y, color='black', s=1, zorder=10, label=\"True Hits\")\n",
    "        ax.scatter(reco_hits_x, reco_hits_y, color='lime', marker='.', s=10, zorder=10, label=\"Reco Hits\")\n",
    "        ax.scatter(ghost_hits_x, ghost_hits_y, color='red', marker='x',s=10, zorder=10, label=\"Ghost Hits\")\n",
    "        \n",
    "        for strip in list(chain.from_iterable(top_hit_strip_pairs)):  # Need to flatten list of strip pairs\n",
    "            strip_1x = strip.anchor[0]\n",
    "            strip_1y = strip.anchor[1]\n",
    "            strip_2x = strip.get_end(self.length)[0]\n",
    "            strip_2y = strip.get_end(self.length)[1]\n",
    "        \n",
    "            ax.plot([strip_1x, strip_2x], [strip_1y, strip_2y], color='orange', label=\"Top Strip\")\n",
    "        \n",
    "        for strip in list(chain.from_iterable(bottom_hit_strip_pairs)):\n",
    "            strip_1x = strip.anchor[0]\n",
    "            strip_1y = strip.anchor[1]\n",
    "            strip_2x = strip.get_end(self.length)[0]\n",
    "            strip_2y = strip.get_end(self.length)[1]\n",
    "        \n",
    "            ax.plot([strip_1x, strip_2x], [strip_1y, strip_2y], color='grey', label=\"Bottom Strip\")\n",
    "    \n",
    "    \n",
    "    def draw_module(self, ax):\n",
    "    \n",
    "        for strip in self.top_strips:\n",
    "            strip_1x = strip.anchor[0]\n",
    "            strip_1y = strip.anchor[1]\n",
    "            strip_2x = strip.get_end(self.length)[0]\n",
    "            strip_2y = strip.get_end(self.length)[1]\n",
    "        \n",
    "            ax.plot([strip_1x, strip_2x], [strip_1y, strip_2y], color='orange', label=\"Top Strip\")\n",
    "        \n",
    "        for strip in self.bottom_strips:\n",
    "            strip_1x = strip.anchor[0]\n",
    "            strip_1y = strip.anchor[1]\n",
    "            strip_2x = strip.get_end(self.length)[0]\n",
    "            strip_2y = strip.get_end(self.length)[1]\n",
    "        \n",
    "            ax.plot([strip_1x, strip_2x], [strip_1y, strip_2y], color='blue', label=\"Bottom Strip\")\n",
    "        \n",
    "        # ax.set_xlim(-32, 32)\n",
    "        # ax.set_ylim(-64, 64)\n",
    "        # ax.scatter(intercept[0], intercept[1], label=\"Intercept\")\n",
    "        # ax.legend()\n",
    "        ax.set_title(f\"Rotation = {self.rotation:.3f}\", fontsize=10, loc='right')\n",
    "        \n",
    "        return ax\n",
    "        \n",
    "\n",
    "mod1 = SCTModule(rotation=0)\n",
    "\n",
    "fig, ax = plt.subplots()\n",
    "# mod1.draw_module(ax)\n",
    "\n",
    "# SCTModule(nstrips=50, rotation=np.pi/2)\n",
    "# SCTModule(nstrips=50, rotation=0, stereo_angle=-0.04)\n",
    "# SCTModule(nstrips=50, rotation=np.pi/2, stereo_angle=-0.04)\n",
    "\n",
    "       \n",
    "sct_width=63.56 \n",
    "sct_length=128.05\n",
    "np.random.seed(41)\n",
    "n = 50\n",
    "rpx = np.random.rand(n) * sct_width - sct_width/2\n",
    "rpy = np.random.rand(n) * sct_width - sct_width/2\n",
    "\n",
    "mod1.draw_hits(ax, rpx, rpy)\n",
    "handles, labels = plt.gca().get_legend_handles_labels()\n",
    "by_label = dict(zip(labels, handles))\n",
    "ax.legend(by_label.values(), by_label.keys(), loc='upper left', bbox_to_anchor=(1, 1))\n",
    "ax.set_xlim(-32*1.5, 32*1.5)\n",
    "ax.set_ylim(-64*1.5, 64*1.5)"
   ]
  },
  {
   "cell_type": "code",
   "execution_count": 18,
   "metadata": {},
   "outputs": [],
   "source": [
    "def sort_events(events_arr):\n",
    "    index = ak.argsort([len(events_arr['x'][i]) for i in range(len(events_arr['x']))])\n",
    "    return events_arr[index]\n"
   ]
  },
  {
   "cell_type": "code",
   "execution_count": 19,
   "metadata": {},
   "outputs": [],
   "source": [
    "data = uproot.open(\"/home/bewilson/FASERvSi_G4/GeantOutput/FASERvSiBaseline-LightTrench-680fb.root:Hits\")\n",
    "events = data.arrays(data.keys())"
   ]
  },
  {
   "cell_type": "code",
   "execution_count": 31,
   "metadata": {},
   "outputs": [
    {
     "ename": "KeyError",
     "evalue": "np.float64(550.45)",
     "output_type": "error",
     "traceback": [
      "\u001b[0;31m---------------------------------------------------------------------------\u001b[0m",
      "\u001b[0;31mKeyError\u001b[0m                                  Traceback (most recent call last)",
      "Cell \u001b[0;32mIn[31], line 31\u001b[0m\n\u001b[1;32m     28\u001b[0m tmp_z \u001b[38;5;241m=\u001b[39m []\n\u001b[1;32m     29\u001b[0m \u001b[38;5;28;01mfor\u001b[39;00m x, y, z, l \u001b[38;5;129;01min\u001b[39;00m \u001b[38;5;28mzip\u001b[39m(event[\u001b[38;5;124m'\u001b[39m\u001b[38;5;124mx\u001b[39m\u001b[38;5;124m'\u001b[39m], event[\u001b[38;5;124m'\u001b[39m\u001b[38;5;124my\u001b[39m\u001b[38;5;124m'\u001b[39m], event[\u001b[38;5;124m'\u001b[39m\u001b[38;5;124mz\u001b[39m\u001b[38;5;124m'\u001b[39m], event[\u001b[38;5;124m'\u001b[39m\u001b[38;5;124mlayer\u001b[39m\u001b[38;5;124m'\u001b[39m]):\n\u001b[0;32m---> 31\u001b[0m     \u001b[43mhits_x_dict\u001b[49m\u001b[43m[\u001b[49m\u001b[43mz\u001b[49m\u001b[43m]\u001b[49m\u001b[38;5;241m.\u001b[39mappend(x)\n\u001b[1;32m     32\u001b[0m     hits_y_dict[z]\u001b[38;5;241m.\u001b[39mappend(y)\n\u001b[1;32m     33\u001b[0m     hits_z_dict[z]\u001b[38;5;241m.\u001b[39mappend(z)\n",
      "\u001b[0;31mKeyError\u001b[0m: np.float64(550.45)"
     ]
    }
   ],
   "source": [
    "\n",
    "cc_data = events[events['isCC'] == True]\n",
    "nc_data = events[events['isCC'] == True]\n",
    "cc_el_data = events[abs(events['nu_pdgc']) == 12]\n",
    "cc_mu_data = events[abs(events['nu_pdgc']) == 14]\n",
    "\n",
    "\n",
    "nc_data_sorted = sort_events(nc_data)\n",
    "cc_el_data_sorted = sort_events(cc_el_data)\n",
    "cc_nu_data_sorted = sort_events(cc_mu_data)\n",
    "\n",
    "event = nc_data_sorted[-1]\n",
    "z_pos = set(np.floor(ak.sort(event['z'])))\n",
    "\n",
    "z_pos = np.sort(list(z_pos))\n",
    "\n",
    "# print(z_pos)\n",
    "initial_layer_num = min(z_pos)\n",
    "\n",
    "counter = 0\n",
    "cutoff = 100\n",
    "\n",
    "hits_x_dict = {p : [] for p in z_pos}\n",
    "hits_y_dict = {p : [] for p in z_pos}\n",
    "hits_z_dict = {p : [] for p in z_pos}\n",
    "\n",
    "tmp_x = []\n",
    "tmp_y = []\n",
    "tmp_z = []\n",
    "\n",
    "for x, y, z, l in zip(event['x'], event['y'], event['z'], event['layer']):    \n",
    "    \n",
    "    hits_x_dict[z].append(x)\n",
    "    hits_y_dict[z].append(y)\n",
    "    hits_z_dict[z].append(z)\n",
    "\n",
    "hits_x = [x for x in hits_x_dict.values()]\n",
    "hits_y = [x for x in hits_y_dict.values()]\n",
    "hits_z = [x for x in hits_z_dict.values()]\n",
    "\n",
    "\n",
    "hits_x = ak.Array(hits_x)\n",
    "hits_y = ak.Array(hits_y)\n",
    "hits_z = ak.Array(hits_z)\n",
    "\n",
    "def centre_hits(hits, vtx):\n",
    "    hits_cent = hits - vtx\n",
    "    return hits_cent\n",
    "\n",
    "hits_x_centred = centre_hits(hits_x, event['vertex_x'])\n",
    "hits_y_centred = centre_hits(hits_y, event['vertex_y'])\n",
    "hits_z_centred = centre_hits(hits_z, event['vertex_z'])"
   ]
  },
  {
   "cell_type": "code",
   "execution_count": 17,
   "metadata": {},
   "outputs": [],
   "source": [
    "# modules = [SCTModule(), SCTModule(rotation=np.pi/2), SCTModule(flip=True), SCTModule(rotation=np.pi/2, flip=True)]\n",
    "# modules  += modules + modules + modules\n",
    "\n",
    "# fig, ax = plt.subplots()\n",
    "# for i, module in enumerate(modules):\n",
    "#     (reco_1x, reco_1y),   (ghosts_1x, ghosts_1y), _ = module.get_reco_and_ghost_hits(hits_x_centred[i], hits_y_centred[i])\n",
    "#     ax.scatter(reco_1x, reco_1y, color='blue', marker='^', label='Reco Hits Module 1', alpha=0.1)\n",
    "#     ax.scatter(ghosts_1x, ghosts_1y, color='orange', marker='x', label='Ghost Hits Module 1', alpha=0.1)"
   ]
  },
  {
   "cell_type": "code",
   "execution_count": 32,
   "metadata": {},
   "outputs": [
    {
     "name": "stdout",
     "output_type": "stream",
     "text": [
      "8 [-35.5] [] [581]\n",
      "9 [-10.9, 0.114, 0.178, -0.556, 10.8, ..., 0.135, -0.0298, -0.067, -0.0988] [] [582, 582, 582, 582, 582, 582, 582, 582, 582, 582]\n",
      "10 [-33.6] [] [589]\n",
      "11 [-13.4, 0.142, 0.169, -0.688, 13.9, ..., 0.168, -0.0371, -0.0834, -0.123] [] [590, 590, 590, 590, 590, 590, 590, 590, 590, 590]\n"
     ]
    },
    {
     "data": {
      "application/vnd.plotly.v1+json": {
       "config": {
        "plotlyServerURL": "https://plot.ly"
       },
       "data": [
        {
         "marker": {
          "color": "green",
          "opacity": 0.5,
          "size": 5
         },
         "mode": "markers",
         "type": "scatter3d",
         "x": [
          -35.47998032583897
         ],
         "y": [
          6.749638351779964
         ],
         "z": [
          581.47
         ]
        },
        {
         "marker": {
          "color": "blue",
          "opacity": 1,
          "size": 5
         },
         "mode": "markers",
         "type": "scatter3d",
         "x": [],
         "y": [],
         "z": [
          581.47
         ]
        },
        {
         "marker": {
          "color": "red",
          "opacity": 1,
          "size": 5
         },
         "mode": "markers",
         "type": "scatter3d",
         "x": [],
         "y": [],
         "z": [
          581.47
         ]
        },
        {
         "marker": {
          "color": "black",
          "opacity": 1,
          "size": 5
         },
         "mode": "markers",
         "type": "scatter3d",
         "x": [
          0
         ],
         "y": [
          0
         ],
         "z": [
          581.47
         ]
        },
        {
         "marker": {
          "color": "green",
          "opacity": 0.5,
          "size": 5
         },
         "mode": "markers",
         "type": "scatter3d",
         "x": [
          -10.850268832216049,
          0.11372302725040129,
          0.17843038240688003,
          -0.5557417871183308,
          10.773248057421064,
          0.0751388991233437,
          0.13461292627521892,
          -0.029827631081353445,
          -0.06696211084660675,
          -0.09884494911491615
         ],
         "y": [
          9.220452011670744,
          -0.23188628509163323,
          2.6707024376106006,
          0.44406584448915964,
          -7.543294306512763,
          -0.24901136746962038,
          0.05762757464979984,
          0.12421121511405886,
          -0.04345722395549956,
          -0.011784999956603315
         ],
         "z": [
          582.3700000000001,
          582.3700000000001,
          582.3700000000001,
          582.3700000000001,
          582.3700000000001,
          582.3700000000001,
          582.3700000000001,
          582.3700000000001,
          582.3700000000001,
          582.3700000000001
         ]
        },
        {
         "marker": {
          "color": "blue",
          "opacity": 1,
          "size": 5
         },
         "mode": "markers",
         "type": "scatter3d",
         "x": [],
         "y": [],
         "z": [
          582.3700000000001,
          582.3700000000001,
          582.3700000000001,
          582.3700000000001,
          582.3700000000001,
          582.3700000000001,
          582.3700000000001,
          582.3700000000001,
          582.3700000000001,
          582.3700000000001
         ]
        },
        {
         "marker": {
          "color": "red",
          "opacity": 1,
          "size": 5
         },
         "mode": "markers",
         "type": "scatter3d",
         "x": [],
         "y": [],
         "z": [
          582.3700000000001,
          582.3700000000001,
          582.3700000000001,
          582.3700000000001,
          582.3700000000001,
          582.3700000000001,
          582.3700000000001,
          582.3700000000001,
          582.3700000000001,
          582.3700000000001
         ]
        },
        {
         "marker": {
          "color": "black",
          "opacity": 1,
          "size": 5
         },
         "mode": "markers",
         "type": "scatter3d",
         "x": [
          0
         ],
         "y": [
          0
         ],
         "z": [
          582.3700000000001,
          582.3700000000001,
          582.3700000000001,
          582.3700000000001,
          582.3700000000001,
          582.3700000000001,
          582.3700000000001,
          582.3700000000001,
          582.3700000000001,
          582.3700000000001
         ]
        },
        {
         "marker": {
          "color": "green",
          "opacity": 0.5,
          "size": 5
         },
         "mode": "markers",
         "type": "scatter3d",
         "x": [
          -33.62745543076337
         ],
         "y": [
          6.380883707558411
         ],
         "z": [
          589.45
         ]
        },
        {
         "marker": {
          "color": "blue",
          "opacity": 1,
          "size": 5
         },
         "mode": "markers",
         "type": "scatter3d",
         "x": [],
         "y": [],
         "z": [
          589.45
         ]
        },
        {
         "marker": {
          "color": "red",
          "opacity": 1,
          "size": 5
         },
         "mode": "markers",
         "type": "scatter3d",
         "x": [],
         "y": [],
         "z": [
          589.45
         ]
        },
        {
         "marker": {
          "color": "black",
          "opacity": 1,
          "size": 5
         },
         "mode": "markers",
         "type": "scatter3d",
         "x": [
          0
         ],
         "y": [
          0
         ],
         "z": [
          589.45
         ]
        },
        {
         "marker": {
          "color": "green",
          "opacity": 0.5,
          "size": 5
         },
         "mode": "markers",
         "type": "scatter3d",
         "x": [
          -13.376274414738345,
          0.14198708491717937,
          0.1686625716115273,
          -0.6876729448291261,
          13.858534351272944,
          0.09475828063919955,
          0.16761539717873397,
          -0.03706612605239634,
          -0.08342964330881131,
          -0.12313956878696075
         ],
         "y": [
          11.540019296797865,
          -0.28658093914587823,
          3.3200220188955,
          0.5559410054803067,
          -9.582680077681616,
          -0.3111344805036538,
          0.07180700646703997,
          0.15532103172274958,
          -0.05421979726736481,
          -0.014787763924232422
         ],
         "z": [
          590.3500000000001,
          590.3500000000001,
          590.3500000000001,
          590.3500000000001,
          590.3500000000001,
          590.3500000000001,
          590.3500000000001,
          590.3500000000001,
          590.3500000000001,
          590.3500000000001
         ]
        },
        {
         "marker": {
          "color": "blue",
          "opacity": 1,
          "size": 5
         },
         "mode": "markers",
         "type": "scatter3d",
         "x": [],
         "y": [],
         "z": [
          590.3500000000001,
          590.3500000000001,
          590.3500000000001,
          590.3500000000001,
          590.3500000000001,
          590.3500000000001,
          590.3500000000001,
          590.3500000000001,
          590.3500000000001,
          590.3500000000001
         ]
        },
        {
         "marker": {
          "color": "red",
          "opacity": 1,
          "size": 5
         },
         "mode": "markers",
         "type": "scatter3d",
         "x": [],
         "y": [],
         "z": [
          590.3500000000001,
          590.3500000000001,
          590.3500000000001,
          590.3500000000001,
          590.3500000000001,
          590.3500000000001,
          590.3500000000001,
          590.3500000000001,
          590.3500000000001,
          590.3500000000001
         ]
        },
        {
         "marker": {
          "color": "black",
          "opacity": 1,
          "size": 5
         },
         "mode": "markers",
         "type": "scatter3d",
         "x": [
          0
         ],
         "y": [
          0
         ],
         "z": [
          590.3500000000001,
          590.3500000000001,
          590.3500000000001,
          590.3500000000001,
          590.3500000000001,
          590.3500000000001,
          590.3500000000001,
          590.3500000000001,
          590.3500000000001,
          590.3500000000001
         ]
        }
       ],
       "layout": {
        "height": 800,
        "scene": {
         "xaxis": {
          "title": {
           "text": "X Axis"
          }
         },
         "yaxis": {
          "title": {
           "text": "Y Axis"
          }
         },
         "zaxis": {
          "title": {
           "text": "Z Axis"
          }
         }
        },
        "template": {
         "data": {
          "bar": [
           {
            "error_x": {
             "color": "#2a3f5f"
            },
            "error_y": {
             "color": "#2a3f5f"
            },
            "marker": {
             "line": {
              "color": "#E5ECF6",
              "width": 0.5
             },
             "pattern": {
              "fillmode": "overlay",
              "size": 10,
              "solidity": 0.2
             }
            },
            "type": "bar"
           }
          ],
          "barpolar": [
           {
            "marker": {
             "line": {
              "color": "#E5ECF6",
              "width": 0.5
             },
             "pattern": {
              "fillmode": "overlay",
              "size": 10,
              "solidity": 0.2
             }
            },
            "type": "barpolar"
           }
          ],
          "carpet": [
           {
            "aaxis": {
             "endlinecolor": "#2a3f5f",
             "gridcolor": "white",
             "linecolor": "white",
             "minorgridcolor": "white",
             "startlinecolor": "#2a3f5f"
            },
            "baxis": {
             "endlinecolor": "#2a3f5f",
             "gridcolor": "white",
             "linecolor": "white",
             "minorgridcolor": "white",
             "startlinecolor": "#2a3f5f"
            },
            "type": "carpet"
           }
          ],
          "choropleth": [
           {
            "colorbar": {
             "outlinewidth": 0,
             "ticks": ""
            },
            "type": "choropleth"
           }
          ],
          "contour": [
           {
            "colorbar": {
             "outlinewidth": 0,
             "ticks": ""
            },
            "colorscale": [
             [
              0,
              "#0d0887"
             ],
             [
              0.1111111111111111,
              "#46039f"
             ],
             [
              0.2222222222222222,
              "#7201a8"
             ],
             [
              0.3333333333333333,
              "#9c179e"
             ],
             [
              0.4444444444444444,
              "#bd3786"
             ],
             [
              0.5555555555555556,
              "#d8576b"
             ],
             [
              0.6666666666666666,
              "#ed7953"
             ],
             [
              0.7777777777777778,
              "#fb9f3a"
             ],
             [
              0.8888888888888888,
              "#fdca26"
             ],
             [
              1,
              "#f0f921"
             ]
            ],
            "type": "contour"
           }
          ],
          "contourcarpet": [
           {
            "colorbar": {
             "outlinewidth": 0,
             "ticks": ""
            },
            "type": "contourcarpet"
           }
          ],
          "heatmap": [
           {
            "colorbar": {
             "outlinewidth": 0,
             "ticks": ""
            },
            "colorscale": [
             [
              0,
              "#0d0887"
             ],
             [
              0.1111111111111111,
              "#46039f"
             ],
             [
              0.2222222222222222,
              "#7201a8"
             ],
             [
              0.3333333333333333,
              "#9c179e"
             ],
             [
              0.4444444444444444,
              "#bd3786"
             ],
             [
              0.5555555555555556,
              "#d8576b"
             ],
             [
              0.6666666666666666,
              "#ed7953"
             ],
             [
              0.7777777777777778,
              "#fb9f3a"
             ],
             [
              0.8888888888888888,
              "#fdca26"
             ],
             [
              1,
              "#f0f921"
             ]
            ],
            "type": "heatmap"
           }
          ],
          "heatmapgl": [
           {
            "colorbar": {
             "outlinewidth": 0,
             "ticks": ""
            },
            "colorscale": [
             [
              0,
              "#0d0887"
             ],
             [
              0.1111111111111111,
              "#46039f"
             ],
             [
              0.2222222222222222,
              "#7201a8"
             ],
             [
              0.3333333333333333,
              "#9c179e"
             ],
             [
              0.4444444444444444,
              "#bd3786"
             ],
             [
              0.5555555555555556,
              "#d8576b"
             ],
             [
              0.6666666666666666,
              "#ed7953"
             ],
             [
              0.7777777777777778,
              "#fb9f3a"
             ],
             [
              0.8888888888888888,
              "#fdca26"
             ],
             [
              1,
              "#f0f921"
             ]
            ],
            "type": "heatmapgl"
           }
          ],
          "histogram": [
           {
            "marker": {
             "pattern": {
              "fillmode": "overlay",
              "size": 10,
              "solidity": 0.2
             }
            },
            "type": "histogram"
           }
          ],
          "histogram2d": [
           {
            "colorbar": {
             "outlinewidth": 0,
             "ticks": ""
            },
            "colorscale": [
             [
              0,
              "#0d0887"
             ],
             [
              0.1111111111111111,
              "#46039f"
             ],
             [
              0.2222222222222222,
              "#7201a8"
             ],
             [
              0.3333333333333333,
              "#9c179e"
             ],
             [
              0.4444444444444444,
              "#bd3786"
             ],
             [
              0.5555555555555556,
              "#d8576b"
             ],
             [
              0.6666666666666666,
              "#ed7953"
             ],
             [
              0.7777777777777778,
              "#fb9f3a"
             ],
             [
              0.8888888888888888,
              "#fdca26"
             ],
             [
              1,
              "#f0f921"
             ]
            ],
            "type": "histogram2d"
           }
          ],
          "histogram2dcontour": [
           {
            "colorbar": {
             "outlinewidth": 0,
             "ticks": ""
            },
            "colorscale": [
             [
              0,
              "#0d0887"
             ],
             [
              0.1111111111111111,
              "#46039f"
             ],
             [
              0.2222222222222222,
              "#7201a8"
             ],
             [
              0.3333333333333333,
              "#9c179e"
             ],
             [
              0.4444444444444444,
              "#bd3786"
             ],
             [
              0.5555555555555556,
              "#d8576b"
             ],
             [
              0.6666666666666666,
              "#ed7953"
             ],
             [
              0.7777777777777778,
              "#fb9f3a"
             ],
             [
              0.8888888888888888,
              "#fdca26"
             ],
             [
              1,
              "#f0f921"
             ]
            ],
            "type": "histogram2dcontour"
           }
          ],
          "mesh3d": [
           {
            "colorbar": {
             "outlinewidth": 0,
             "ticks": ""
            },
            "type": "mesh3d"
           }
          ],
          "parcoords": [
           {
            "line": {
             "colorbar": {
              "outlinewidth": 0,
              "ticks": ""
             }
            },
            "type": "parcoords"
           }
          ],
          "pie": [
           {
            "automargin": true,
            "type": "pie"
           }
          ],
          "scatter": [
           {
            "fillpattern": {
             "fillmode": "overlay",
             "size": 10,
             "solidity": 0.2
            },
            "type": "scatter"
           }
          ],
          "scatter3d": [
           {
            "line": {
             "colorbar": {
              "outlinewidth": 0,
              "ticks": ""
             }
            },
            "marker": {
             "colorbar": {
              "outlinewidth": 0,
              "ticks": ""
             }
            },
            "type": "scatter3d"
           }
          ],
          "scattercarpet": [
           {
            "marker": {
             "colorbar": {
              "outlinewidth": 0,
              "ticks": ""
             }
            },
            "type": "scattercarpet"
           }
          ],
          "scattergeo": [
           {
            "marker": {
             "colorbar": {
              "outlinewidth": 0,
              "ticks": ""
             }
            },
            "type": "scattergeo"
           }
          ],
          "scattergl": [
           {
            "marker": {
             "colorbar": {
              "outlinewidth": 0,
              "ticks": ""
             }
            },
            "type": "scattergl"
           }
          ],
          "scattermapbox": [
           {
            "marker": {
             "colorbar": {
              "outlinewidth": 0,
              "ticks": ""
             }
            },
            "type": "scattermapbox"
           }
          ],
          "scatterpolar": [
           {
            "marker": {
             "colorbar": {
              "outlinewidth": 0,
              "ticks": ""
             }
            },
            "type": "scatterpolar"
           }
          ],
          "scatterpolargl": [
           {
            "marker": {
             "colorbar": {
              "outlinewidth": 0,
              "ticks": ""
             }
            },
            "type": "scatterpolargl"
           }
          ],
          "scatterternary": [
           {
            "marker": {
             "colorbar": {
              "outlinewidth": 0,
              "ticks": ""
             }
            },
            "type": "scatterternary"
           }
          ],
          "surface": [
           {
            "colorbar": {
             "outlinewidth": 0,
             "ticks": ""
            },
            "colorscale": [
             [
              0,
              "#0d0887"
             ],
             [
              0.1111111111111111,
              "#46039f"
             ],
             [
              0.2222222222222222,
              "#7201a8"
             ],
             [
              0.3333333333333333,
              "#9c179e"
             ],
             [
              0.4444444444444444,
              "#bd3786"
             ],
             [
              0.5555555555555556,
              "#d8576b"
             ],
             [
              0.6666666666666666,
              "#ed7953"
             ],
             [
              0.7777777777777778,
              "#fb9f3a"
             ],
             [
              0.8888888888888888,
              "#fdca26"
             ],
             [
              1,
              "#f0f921"
             ]
            ],
            "type": "surface"
           }
          ],
          "table": [
           {
            "cells": {
             "fill": {
              "color": "#EBF0F8"
             },
             "line": {
              "color": "white"
             }
            },
            "header": {
             "fill": {
              "color": "#C8D4E3"
             },
             "line": {
              "color": "white"
             }
            },
            "type": "table"
           }
          ]
         },
         "layout": {
          "annotationdefaults": {
           "arrowcolor": "#2a3f5f",
           "arrowhead": 0,
           "arrowwidth": 1
          },
          "autotypenumbers": "strict",
          "coloraxis": {
           "colorbar": {
            "outlinewidth": 0,
            "ticks": ""
           }
          },
          "colorscale": {
           "diverging": [
            [
             0,
             "#8e0152"
            ],
            [
             0.1,
             "#c51b7d"
            ],
            [
             0.2,
             "#de77ae"
            ],
            [
             0.3,
             "#f1b6da"
            ],
            [
             0.4,
             "#fde0ef"
            ],
            [
             0.5,
             "#f7f7f7"
            ],
            [
             0.6,
             "#e6f5d0"
            ],
            [
             0.7,
             "#b8e186"
            ],
            [
             0.8,
             "#7fbc41"
            ],
            [
             0.9,
             "#4d9221"
            ],
            [
             1,
             "#276419"
            ]
           ],
           "sequential": [
            [
             0,
             "#0d0887"
            ],
            [
             0.1111111111111111,
             "#46039f"
            ],
            [
             0.2222222222222222,
             "#7201a8"
            ],
            [
             0.3333333333333333,
             "#9c179e"
            ],
            [
             0.4444444444444444,
             "#bd3786"
            ],
            [
             0.5555555555555556,
             "#d8576b"
            ],
            [
             0.6666666666666666,
             "#ed7953"
            ],
            [
             0.7777777777777778,
             "#fb9f3a"
            ],
            [
             0.8888888888888888,
             "#fdca26"
            ],
            [
             1,
             "#f0f921"
            ]
           ],
           "sequentialminus": [
            [
             0,
             "#0d0887"
            ],
            [
             0.1111111111111111,
             "#46039f"
            ],
            [
             0.2222222222222222,
             "#7201a8"
            ],
            [
             0.3333333333333333,
             "#9c179e"
            ],
            [
             0.4444444444444444,
             "#bd3786"
            ],
            [
             0.5555555555555556,
             "#d8576b"
            ],
            [
             0.6666666666666666,
             "#ed7953"
            ],
            [
             0.7777777777777778,
             "#fb9f3a"
            ],
            [
             0.8888888888888888,
             "#fdca26"
            ],
            [
             1,
             "#f0f921"
            ]
           ]
          },
          "colorway": [
           "#636efa",
           "#EF553B",
           "#00cc96",
           "#ab63fa",
           "#FFA15A",
           "#19d3f3",
           "#FF6692",
           "#B6E880",
           "#FF97FF",
           "#FECB52"
          ],
          "font": {
           "color": "#2a3f5f"
          },
          "geo": {
           "bgcolor": "white",
           "lakecolor": "white",
           "landcolor": "#E5ECF6",
           "showlakes": true,
           "showland": true,
           "subunitcolor": "white"
          },
          "hoverlabel": {
           "align": "left"
          },
          "hovermode": "closest",
          "mapbox": {
           "style": "light"
          },
          "paper_bgcolor": "white",
          "plot_bgcolor": "#E5ECF6",
          "polar": {
           "angularaxis": {
            "gridcolor": "white",
            "linecolor": "white",
            "ticks": ""
           },
           "bgcolor": "#E5ECF6",
           "radialaxis": {
            "gridcolor": "white",
            "linecolor": "white",
            "ticks": ""
           }
          },
          "scene": {
           "xaxis": {
            "backgroundcolor": "#E5ECF6",
            "gridcolor": "white",
            "gridwidth": 2,
            "linecolor": "white",
            "showbackground": true,
            "ticks": "",
            "zerolinecolor": "white"
           },
           "yaxis": {
            "backgroundcolor": "#E5ECF6",
            "gridcolor": "white",
            "gridwidth": 2,
            "linecolor": "white",
            "showbackground": true,
            "ticks": "",
            "zerolinecolor": "white"
           },
           "zaxis": {
            "backgroundcolor": "#E5ECF6",
            "gridcolor": "white",
            "gridwidth": 2,
            "linecolor": "white",
            "showbackground": true,
            "ticks": "",
            "zerolinecolor": "white"
           }
          },
          "shapedefaults": {
           "line": {
            "color": "#2a3f5f"
           }
          },
          "ternary": {
           "aaxis": {
            "gridcolor": "white",
            "linecolor": "white",
            "ticks": ""
           },
           "baxis": {
            "gridcolor": "white",
            "linecolor": "white",
            "ticks": ""
           },
           "bgcolor": "#E5ECF6",
           "caxis": {
            "gridcolor": "white",
            "linecolor": "white",
            "ticks": ""
           }
          },
          "title": {
           "x": 0.05
          },
          "xaxis": {
           "automargin": true,
           "gridcolor": "white",
           "linecolor": "white",
           "ticks": "",
           "title": {
            "standoff": 15
           },
           "zerolinecolor": "white",
           "zerolinewidth": 2
          },
          "yaxis": {
           "automargin": true,
           "gridcolor": "white",
           "linecolor": "white",
           "ticks": "",
           "title": {
            "standoff": 15
           },
           "zerolinecolor": "white",
           "zerolinewidth": 2
          }
         }
        },
        "title": {
         "text": ""
        },
        "width": 1200
       }
      },
      "text/html": [
       "<div>                            <div id=\"fe33529c-884d-4ed9-8de5-99a1509be445\" class=\"plotly-graph-div\" style=\"height:800px; width:1200px;\"></div>            <script type=\"text/javascript\">                require([\"plotly\"], function(Plotly) {                    window.PLOTLYENV=window.PLOTLYENV || {};                                    if (document.getElementById(\"fe33529c-884d-4ed9-8de5-99a1509be445\")) {                    Plotly.newPlot(                        \"fe33529c-884d-4ed9-8de5-99a1509be445\",                        [{\"marker\":{\"color\":\"green\",\"opacity\":0.5,\"size\":5},\"mode\":\"markers\",\"x\":[-35.47998032583897],\"y\":[6.749638351779964],\"z\":[581.47],\"type\":\"scatter3d\"},{\"marker\":{\"color\":\"blue\",\"opacity\":1,\"size\":5},\"mode\":\"markers\",\"x\":[],\"y\":[],\"z\":[581.47],\"type\":\"scatter3d\"},{\"marker\":{\"color\":\"red\",\"opacity\":1,\"size\":5},\"mode\":\"markers\",\"x\":[],\"y\":[],\"z\":[581.47],\"type\":\"scatter3d\"},{\"marker\":{\"color\":\"black\",\"opacity\":1,\"size\":5},\"mode\":\"markers\",\"x\":[0],\"y\":[0],\"z\":[581.47],\"type\":\"scatter3d\"},{\"marker\":{\"color\":\"green\",\"opacity\":0.5,\"size\":5},\"mode\":\"markers\",\"x\":[-10.850268832216049,0.11372302725040129,0.17843038240688003,-0.5557417871183308,10.773248057421064,0.0751388991233437,0.13461292627521892,-0.029827631081353445,-0.06696211084660675,-0.09884494911491615],\"y\":[9.220452011670744,-0.23188628509163323,2.6707024376106006,0.44406584448915964,-7.543294306512763,-0.24901136746962038,0.05762757464979984,0.12421121511405886,-0.04345722395549956,-0.011784999956603315],\"z\":[582.3700000000001,582.3700000000001,582.3700000000001,582.3700000000001,582.3700000000001,582.3700000000001,582.3700000000001,582.3700000000001,582.3700000000001,582.3700000000001],\"type\":\"scatter3d\"},{\"marker\":{\"color\":\"blue\",\"opacity\":1,\"size\":5},\"mode\":\"markers\",\"x\":[],\"y\":[],\"z\":[582.3700000000001,582.3700000000001,582.3700000000001,582.3700000000001,582.3700000000001,582.3700000000001,582.3700000000001,582.3700000000001,582.3700000000001,582.3700000000001],\"type\":\"scatter3d\"},{\"marker\":{\"color\":\"red\",\"opacity\":1,\"size\":5},\"mode\":\"markers\",\"x\":[],\"y\":[],\"z\":[582.3700000000001,582.3700000000001,582.3700000000001,582.3700000000001,582.3700000000001,582.3700000000001,582.3700000000001,582.3700000000001,582.3700000000001,582.3700000000001],\"type\":\"scatter3d\"},{\"marker\":{\"color\":\"black\",\"opacity\":1,\"size\":5},\"mode\":\"markers\",\"x\":[0],\"y\":[0],\"z\":[582.3700000000001,582.3700000000001,582.3700000000001,582.3700000000001,582.3700000000001,582.3700000000001,582.3700000000001,582.3700000000001,582.3700000000001,582.3700000000001],\"type\":\"scatter3d\"},{\"marker\":{\"color\":\"green\",\"opacity\":0.5,\"size\":5},\"mode\":\"markers\",\"x\":[-33.62745543076337],\"y\":[6.380883707558411],\"z\":[589.45],\"type\":\"scatter3d\"},{\"marker\":{\"color\":\"blue\",\"opacity\":1,\"size\":5},\"mode\":\"markers\",\"x\":[],\"y\":[],\"z\":[589.45],\"type\":\"scatter3d\"},{\"marker\":{\"color\":\"red\",\"opacity\":1,\"size\":5},\"mode\":\"markers\",\"x\":[],\"y\":[],\"z\":[589.45],\"type\":\"scatter3d\"},{\"marker\":{\"color\":\"black\",\"opacity\":1,\"size\":5},\"mode\":\"markers\",\"x\":[0],\"y\":[0],\"z\":[589.45],\"type\":\"scatter3d\"},{\"marker\":{\"color\":\"green\",\"opacity\":0.5,\"size\":5},\"mode\":\"markers\",\"x\":[-13.376274414738345,0.14198708491717937,0.1686625716115273,-0.6876729448291261,13.858534351272944,0.09475828063919955,0.16761539717873397,-0.03706612605239634,-0.08342964330881131,-0.12313956878696075],\"y\":[11.540019296797865,-0.28658093914587823,3.3200220188955,0.5559410054803067,-9.582680077681616,-0.3111344805036538,0.07180700646703997,0.15532103172274958,-0.05421979726736481,-0.014787763924232422],\"z\":[590.3500000000001,590.3500000000001,590.3500000000001,590.3500000000001,590.3500000000001,590.3500000000001,590.3500000000001,590.3500000000001,590.3500000000001,590.3500000000001],\"type\":\"scatter3d\"},{\"marker\":{\"color\":\"blue\",\"opacity\":1,\"size\":5},\"mode\":\"markers\",\"x\":[],\"y\":[],\"z\":[590.3500000000001,590.3500000000001,590.3500000000001,590.3500000000001,590.3500000000001,590.3500000000001,590.3500000000001,590.3500000000001,590.3500000000001,590.3500000000001],\"type\":\"scatter3d\"},{\"marker\":{\"color\":\"red\",\"opacity\":1,\"size\":5},\"mode\":\"markers\",\"x\":[],\"y\":[],\"z\":[590.3500000000001,590.3500000000001,590.3500000000001,590.3500000000001,590.3500000000001,590.3500000000001,590.3500000000001,590.3500000000001,590.3500000000001,590.3500000000001],\"type\":\"scatter3d\"},{\"marker\":{\"color\":\"black\",\"opacity\":1,\"size\":5},\"mode\":\"markers\",\"x\":[0],\"y\":[0],\"z\":[590.3500000000001,590.3500000000001,590.3500000000001,590.3500000000001,590.3500000000001,590.3500000000001,590.3500000000001,590.3500000000001,590.3500000000001,590.3500000000001],\"type\":\"scatter3d\"}],                        {\"template\":{\"data\":{\"histogram2dcontour\":[{\"type\":\"histogram2dcontour\",\"colorbar\":{\"outlinewidth\":0,\"ticks\":\"\"},\"colorscale\":[[0.0,\"#0d0887\"],[0.1111111111111111,\"#46039f\"],[0.2222222222222222,\"#7201a8\"],[0.3333333333333333,\"#9c179e\"],[0.4444444444444444,\"#bd3786\"],[0.5555555555555556,\"#d8576b\"],[0.6666666666666666,\"#ed7953\"],[0.7777777777777778,\"#fb9f3a\"],[0.8888888888888888,\"#fdca26\"],[1.0,\"#f0f921\"]]}],\"choropleth\":[{\"type\":\"choropleth\",\"colorbar\":{\"outlinewidth\":0,\"ticks\":\"\"}}],\"histogram2d\":[{\"type\":\"histogram2d\",\"colorbar\":{\"outlinewidth\":0,\"ticks\":\"\"},\"colorscale\":[[0.0,\"#0d0887\"],[0.1111111111111111,\"#46039f\"],[0.2222222222222222,\"#7201a8\"],[0.3333333333333333,\"#9c179e\"],[0.4444444444444444,\"#bd3786\"],[0.5555555555555556,\"#d8576b\"],[0.6666666666666666,\"#ed7953\"],[0.7777777777777778,\"#fb9f3a\"],[0.8888888888888888,\"#fdca26\"],[1.0,\"#f0f921\"]]}],\"heatmap\":[{\"type\":\"heatmap\",\"colorbar\":{\"outlinewidth\":0,\"ticks\":\"\"},\"colorscale\":[[0.0,\"#0d0887\"],[0.1111111111111111,\"#46039f\"],[0.2222222222222222,\"#7201a8\"],[0.3333333333333333,\"#9c179e\"],[0.4444444444444444,\"#bd3786\"],[0.5555555555555556,\"#d8576b\"],[0.6666666666666666,\"#ed7953\"],[0.7777777777777778,\"#fb9f3a\"],[0.8888888888888888,\"#fdca26\"],[1.0,\"#f0f921\"]]}],\"heatmapgl\":[{\"type\":\"heatmapgl\",\"colorbar\":{\"outlinewidth\":0,\"ticks\":\"\"},\"colorscale\":[[0.0,\"#0d0887\"],[0.1111111111111111,\"#46039f\"],[0.2222222222222222,\"#7201a8\"],[0.3333333333333333,\"#9c179e\"],[0.4444444444444444,\"#bd3786\"],[0.5555555555555556,\"#d8576b\"],[0.6666666666666666,\"#ed7953\"],[0.7777777777777778,\"#fb9f3a\"],[0.8888888888888888,\"#fdca26\"],[1.0,\"#f0f921\"]]}],\"contourcarpet\":[{\"type\":\"contourcarpet\",\"colorbar\":{\"outlinewidth\":0,\"ticks\":\"\"}}],\"contour\":[{\"type\":\"contour\",\"colorbar\":{\"outlinewidth\":0,\"ticks\":\"\"},\"colorscale\":[[0.0,\"#0d0887\"],[0.1111111111111111,\"#46039f\"],[0.2222222222222222,\"#7201a8\"],[0.3333333333333333,\"#9c179e\"],[0.4444444444444444,\"#bd3786\"],[0.5555555555555556,\"#d8576b\"],[0.6666666666666666,\"#ed7953\"],[0.7777777777777778,\"#fb9f3a\"],[0.8888888888888888,\"#fdca26\"],[1.0,\"#f0f921\"]]}],\"surface\":[{\"type\":\"surface\",\"colorbar\":{\"outlinewidth\":0,\"ticks\":\"\"},\"colorscale\":[[0.0,\"#0d0887\"],[0.1111111111111111,\"#46039f\"],[0.2222222222222222,\"#7201a8\"],[0.3333333333333333,\"#9c179e\"],[0.4444444444444444,\"#bd3786\"],[0.5555555555555556,\"#d8576b\"],[0.6666666666666666,\"#ed7953\"],[0.7777777777777778,\"#fb9f3a\"],[0.8888888888888888,\"#fdca26\"],[1.0,\"#f0f921\"]]}],\"mesh3d\":[{\"type\":\"mesh3d\",\"colorbar\":{\"outlinewidth\":0,\"ticks\":\"\"}}],\"scatter\":[{\"fillpattern\":{\"fillmode\":\"overlay\",\"size\":10,\"solidity\":0.2},\"type\":\"scatter\"}],\"parcoords\":[{\"type\":\"parcoords\",\"line\":{\"colorbar\":{\"outlinewidth\":0,\"ticks\":\"\"}}}],\"scatterpolargl\":[{\"type\":\"scatterpolargl\",\"marker\":{\"colorbar\":{\"outlinewidth\":0,\"ticks\":\"\"}}}],\"bar\":[{\"error_x\":{\"color\":\"#2a3f5f\"},\"error_y\":{\"color\":\"#2a3f5f\"},\"marker\":{\"line\":{\"color\":\"#E5ECF6\",\"width\":0.5},\"pattern\":{\"fillmode\":\"overlay\",\"size\":10,\"solidity\":0.2}},\"type\":\"bar\"}],\"scattergeo\":[{\"type\":\"scattergeo\",\"marker\":{\"colorbar\":{\"outlinewidth\":0,\"ticks\":\"\"}}}],\"scatterpolar\":[{\"type\":\"scatterpolar\",\"marker\":{\"colorbar\":{\"outlinewidth\":0,\"ticks\":\"\"}}}],\"histogram\":[{\"marker\":{\"pattern\":{\"fillmode\":\"overlay\",\"size\":10,\"solidity\":0.2}},\"type\":\"histogram\"}],\"scattergl\":[{\"type\":\"scattergl\",\"marker\":{\"colorbar\":{\"outlinewidth\":0,\"ticks\":\"\"}}}],\"scatter3d\":[{\"type\":\"scatter3d\",\"line\":{\"colorbar\":{\"outlinewidth\":0,\"ticks\":\"\"}},\"marker\":{\"colorbar\":{\"outlinewidth\":0,\"ticks\":\"\"}}}],\"scattermapbox\":[{\"type\":\"scattermapbox\",\"marker\":{\"colorbar\":{\"outlinewidth\":0,\"ticks\":\"\"}}}],\"scatterternary\":[{\"type\":\"scatterternary\",\"marker\":{\"colorbar\":{\"outlinewidth\":0,\"ticks\":\"\"}}}],\"scattercarpet\":[{\"type\":\"scattercarpet\",\"marker\":{\"colorbar\":{\"outlinewidth\":0,\"ticks\":\"\"}}}],\"carpet\":[{\"aaxis\":{\"endlinecolor\":\"#2a3f5f\",\"gridcolor\":\"white\",\"linecolor\":\"white\",\"minorgridcolor\":\"white\",\"startlinecolor\":\"#2a3f5f\"},\"baxis\":{\"endlinecolor\":\"#2a3f5f\",\"gridcolor\":\"white\",\"linecolor\":\"white\",\"minorgridcolor\":\"white\",\"startlinecolor\":\"#2a3f5f\"},\"type\":\"carpet\"}],\"table\":[{\"cells\":{\"fill\":{\"color\":\"#EBF0F8\"},\"line\":{\"color\":\"white\"}},\"header\":{\"fill\":{\"color\":\"#C8D4E3\"},\"line\":{\"color\":\"white\"}},\"type\":\"table\"}],\"barpolar\":[{\"marker\":{\"line\":{\"color\":\"#E5ECF6\",\"width\":0.5},\"pattern\":{\"fillmode\":\"overlay\",\"size\":10,\"solidity\":0.2}},\"type\":\"barpolar\"}],\"pie\":[{\"automargin\":true,\"type\":\"pie\"}]},\"layout\":{\"autotypenumbers\":\"strict\",\"colorway\":[\"#636efa\",\"#EF553B\",\"#00cc96\",\"#ab63fa\",\"#FFA15A\",\"#19d3f3\",\"#FF6692\",\"#B6E880\",\"#FF97FF\",\"#FECB52\"],\"font\":{\"color\":\"#2a3f5f\"},\"hovermode\":\"closest\",\"hoverlabel\":{\"align\":\"left\"},\"paper_bgcolor\":\"white\",\"plot_bgcolor\":\"#E5ECF6\",\"polar\":{\"bgcolor\":\"#E5ECF6\",\"angularaxis\":{\"gridcolor\":\"white\",\"linecolor\":\"white\",\"ticks\":\"\"},\"radialaxis\":{\"gridcolor\":\"white\",\"linecolor\":\"white\",\"ticks\":\"\"}},\"ternary\":{\"bgcolor\":\"#E5ECF6\",\"aaxis\":{\"gridcolor\":\"white\",\"linecolor\":\"white\",\"ticks\":\"\"},\"baxis\":{\"gridcolor\":\"white\",\"linecolor\":\"white\",\"ticks\":\"\"},\"caxis\":{\"gridcolor\":\"white\",\"linecolor\":\"white\",\"ticks\":\"\"}},\"coloraxis\":{\"colorbar\":{\"outlinewidth\":0,\"ticks\":\"\"}},\"colorscale\":{\"sequential\":[[0.0,\"#0d0887\"],[0.1111111111111111,\"#46039f\"],[0.2222222222222222,\"#7201a8\"],[0.3333333333333333,\"#9c179e\"],[0.4444444444444444,\"#bd3786\"],[0.5555555555555556,\"#d8576b\"],[0.6666666666666666,\"#ed7953\"],[0.7777777777777778,\"#fb9f3a\"],[0.8888888888888888,\"#fdca26\"],[1.0,\"#f0f921\"]],\"sequentialminus\":[[0.0,\"#0d0887\"],[0.1111111111111111,\"#46039f\"],[0.2222222222222222,\"#7201a8\"],[0.3333333333333333,\"#9c179e\"],[0.4444444444444444,\"#bd3786\"],[0.5555555555555556,\"#d8576b\"],[0.6666666666666666,\"#ed7953\"],[0.7777777777777778,\"#fb9f3a\"],[0.8888888888888888,\"#fdca26\"],[1.0,\"#f0f921\"]],\"diverging\":[[0,\"#8e0152\"],[0.1,\"#c51b7d\"],[0.2,\"#de77ae\"],[0.3,\"#f1b6da\"],[0.4,\"#fde0ef\"],[0.5,\"#f7f7f7\"],[0.6,\"#e6f5d0\"],[0.7,\"#b8e186\"],[0.8,\"#7fbc41\"],[0.9,\"#4d9221\"],[1,\"#276419\"]]},\"xaxis\":{\"gridcolor\":\"white\",\"linecolor\":\"white\",\"ticks\":\"\",\"title\":{\"standoff\":15},\"zerolinecolor\":\"white\",\"automargin\":true,\"zerolinewidth\":2},\"yaxis\":{\"gridcolor\":\"white\",\"linecolor\":\"white\",\"ticks\":\"\",\"title\":{\"standoff\":15},\"zerolinecolor\":\"white\",\"automargin\":true,\"zerolinewidth\":2},\"scene\":{\"xaxis\":{\"backgroundcolor\":\"#E5ECF6\",\"gridcolor\":\"white\",\"linecolor\":\"white\",\"showbackground\":true,\"ticks\":\"\",\"zerolinecolor\":\"white\",\"gridwidth\":2},\"yaxis\":{\"backgroundcolor\":\"#E5ECF6\",\"gridcolor\":\"white\",\"linecolor\":\"white\",\"showbackground\":true,\"ticks\":\"\",\"zerolinecolor\":\"white\",\"gridwidth\":2},\"zaxis\":{\"backgroundcolor\":\"#E5ECF6\",\"gridcolor\":\"white\",\"linecolor\":\"white\",\"showbackground\":true,\"ticks\":\"\",\"zerolinecolor\":\"white\",\"gridwidth\":2}},\"shapedefaults\":{\"line\":{\"color\":\"#2a3f5f\"}},\"annotationdefaults\":{\"arrowcolor\":\"#2a3f5f\",\"arrowhead\":0,\"arrowwidth\":1},\"geo\":{\"bgcolor\":\"white\",\"landcolor\":\"#E5ECF6\",\"subunitcolor\":\"white\",\"showland\":true,\"showlakes\":true,\"lakecolor\":\"white\"},\"title\":{\"x\":0.05},\"mapbox\":{\"style\":\"light\"}}},\"title\":{\"text\":\"\"},\"scene\":{\"xaxis\":{\"title\":{\"text\":\"X Axis\"}},\"yaxis\":{\"title\":{\"text\":\"Y Axis\"}},\"zaxis\":{\"title\":{\"text\":\"Z Axis\"}}},\"width\":1200,\"height\":800},                        {\"responsive\": true}                    ).then(function(){\n",
       "                            \n",
       "var gd = document.getElementById('fe33529c-884d-4ed9-8de5-99a1509be445');\n",
       "var x = new MutationObserver(function (mutations, observer) {{\n",
       "        var display = window.getComputedStyle(gd).display;\n",
       "        if (!display || display === 'none') {{\n",
       "            console.log([gd, 'removed!']);\n",
       "            Plotly.purge(gd);\n",
       "            observer.disconnect();\n",
       "        }}\n",
       "}});\n",
       "\n",
       "// Listen for the removal of the full notebook cells\n",
       "var notebookContainer = gd.closest('#notebook-container');\n",
       "if (notebookContainer) {{\n",
       "    x.observe(notebookContainer, {childList: true});\n",
       "}}\n",
       "\n",
       "// Listen for the clearing of the current output cell\n",
       "var outputEl = gd.closest('.output');\n",
       "if (outputEl) {{\n",
       "    x.observe(outputEl, {childList: true});\n",
       "}}\n",
       "\n",
       "                        })                };                });            </script>        </div>"
      ]
     },
     "metadata": {},
     "output_type": "display_data"
    }
   ],
   "source": [
    "modules = [SCTModule(), SCTModule(rotation=np.pi/2), SCTModule(flip=True), SCTModule(rotation=np.pi/2, flip=True), \n",
    "           SCTModule(), SCTModule(rotation=np.pi/2), SCTModule(flip=True), SCTModule(rotation=np.pi/2, flip=True), \n",
    "           SCTModule(), SCTModule(rotation=np.pi/2), SCTModule(flip=True), SCTModule(rotation=np.pi/2, flip=True), \n",
    "           ]\n",
    "\n",
    "scatter = []\n",
    "for i, module in enumerate(modules):\n",
    "    (reco_x, reco_y), (ghosts_x, ghosts_y), _ = module.get_reco_and_ghost_hits(hits_x_centred[i], hits_y_centred[i])\n",
    "    \n",
    "    if i < 8:\n",
    "        continue\n",
    "    \n",
    "    print(i, hits_x_centred[i], reco_x, hits_z[i])\n",
    "    scatter.append(go.Scatter3d(x=hits_x_centred[i].tolist(), y=hits_y_centred[i].tolist(), z=hits_z[i].tolist(), mode='markers',  marker=dict( size=5, color='green', opacity=0.5)))\n",
    "    scatter.append(go.Scatter3d(x=reco_x.tolist(), y=reco_y.tolist(), z=hits_z[i].tolist(), mode='markers',  marker=dict( size=5, color='blue', opacity=1)))\n",
    "    scatter.append(go.Scatter3d(x=ghosts_x.tolist(), y=ghosts_y.tolist(), z=hits_z[i].tolist(), mode='markers',  marker=dict( size=5, color='red', opacity=1)))\n",
    "    scatter.append(go.Scatter3d(x=[0], y=[0], z=hits_z[i].tolist(), mode='markers',  marker=dict( size=5, color='black', opacity=1)))\n",
    "\n",
    "fig = go.Figure(data=scatter)\n",
    "# Customize the layout\n",
    "fig.update_layout(\n",
    "    title=\"\",\n",
    "    scene=dict(\n",
    "        xaxis_title='X Axis',\n",
    "        yaxis_title='Y Axis',\n",
    "        zaxis_title='Z Axis'\n",
    "    ),\n",
    "    width=1200, # Set the width here \n",
    "    height=800, # Set the height here\n",
    "    # xaxis=dict(range=(-64/2, 64/2)), # Change the x-axis range \n",
    "    # yaxis=dict(range=(-64/2, 64/2)),\n",
    ")\n",
    "\n",
    "fig.show()\n",
    "    "
   ]
  }
 ],
 "metadata": {
  "kernelspec": {
   "display_name": "FASERSim",
   "language": "python",
   "name": "python3"
  },
  "language_info": {
   "codemirror_mode": {
    "name": "ipython",
    "version": 3
   },
   "file_extension": ".py",
   "mimetype": "text/x-python",
   "name": "python",
   "nbconvert_exporter": "python",
   "pygments_lexer": "ipython3",
   "version": "3.10.15"
  }
 },
 "nbformat": 4,
 "nbformat_minor": 2
}
